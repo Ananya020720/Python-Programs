h = int(input("Enter height of the triangle: "))
if h <=1:
  print("Enter height more than 1")
else:
  for i in range(0, h):
    print("*" * (i+1))
