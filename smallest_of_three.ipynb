{
  "nbformat": 4,
  "nbformat_minor": 0,
  "metadata": {
    "colab": {
      "provenance": [],
      "authorship_tag": "ABX9TyN/jn54daC4nsbs1/lTF949",
      "include_colab_link": true
    },
    "kernelspec": {
      "name": "python3",
      "display_name": "Python 3"
    },
    "language_info": {
      "name": "python"
    }
  },
  "cells": [
    {
      "cell_type": "markdown",
      "metadata": {
        "id": "view-in-github",
        "colab_type": "text"
      },
      "source": [
        "<a href=\"https://colab.research.google.com/github/Ananya020720/Python-Programs/blob/main/smallest_of_three.ipynb\" target=\"_parent\"><img src=\"https://colab.research.google.com/assets/colab-badge.svg\" alt=\"Open In Colab\"/></a>"
      ]
    },
    {
      "cell_type": "code",
      "execution_count": 3,
      "metadata": {
        "colab": {
          "base_uri": "https://localhost:8080/"
        },
        "id": "18pgOnHGaVeG",
        "outputId": "75c2989e-4766-481c-c133-afa92af28e83"
      },
      "outputs": [
        {
          "output_type": "stream",
          "name": "stdout",
          "text": [
            "Enter First Number: 1\n",
            "Enter Second Number: 1\n",
            "Enter Third Number: 1\n",
            "All three given numbers are equal\n",
            "Smallest of 1, 1 and 1 is 1\n"
          ]
        }
      ],
      "source": [
        "num1 = int(input(\"Enter First Number: \"))\n",
        "num2 = int(input(\"Enter Second Number: \"))\n",
        "num3 = int(input(\"Enter Third Number: \"))\n",
        "\n",
        "if num1 == num2 == num3:\n",
        "  print(\"All three given numbers are equal\")\n",
        "if num1 <= num2 and num1 <= num3:\n",
        "  print(f\"Smallest of {num1}, {num2} and {num3} is {num1}\")\n",
        "elif num2 <= num1 and num2 <= num3:\n",
        "  print(f\"Smallest of {num1}, {num2} and {num3} is {num2}\")\n",
        "else:\n",
        "  print(f\"Smallest of {num1}, {num2} and {num3} is {num2}\")"
      ]
    }
  ]
}