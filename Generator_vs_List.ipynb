{
  "nbformat": 4,
  "nbformat_minor": 0,
  "metadata": {
    "colab": {
      "provenance": [],
      "authorship_tag": "ABX9TyNlSF5Iy6ACpfodUAF7H86Y",
      "include_colab_link": true
    },
    "kernelspec": {
      "name": "python3",
      "display_name": "Python 3"
    },
    "language_info": {
      "name": "python"
    }
  },
  "cells": [
    {
      "cell_type": "markdown",
      "metadata": {
        "id": "view-in-github",
        "colab_type": "text"
      },
      "source": [
        "<a href=\"https://colab.research.google.com/github/Ananya020720/Python-Programs/blob/main/Generator_vs_List.ipynb\" target=\"_parent\"><img src=\"https://colab.research.google.com/assets/colab-badge.svg\" alt=\"Open In Colab\"/></a>"
      ]
    },
    {
      "cell_type": "code",
      "execution_count": 2,
      "metadata": {
        "colab": {
          "base_uri": "https://localhost:8080/"
        },
        "id": "jN74wYcFy0Np",
        "outputId": "56428456-196f-43a4-f503-549f387d1d3d"
      },
      "outputs": [
        {
          "output_type": "stream",
          "name": "stdout",
          "text": [
            "List: Time = 0.1140s, Memory = 4167352 bytes\n",
            "Generator: Time = 0.0001s, Memory = 208 bytes\n"
          ]
        }
      ],
      "source": [
        "import time\n",
        "import sys\n",
        "\n",
        "n = 10**6  # 1 million\n",
        "\n",
        "# List Comprehension\n",
        "def list_even_numbers(n):\n",
        "    return [i for i in range(n) if i % 2 == 0]\n",
        "\n",
        "# Generator Expression\n",
        "def generator_even_numbers(n):\n",
        "    for i in range(n):\n",
        "        if i % 2 == 0:\n",
        "            yield i\n",
        "\n",
        "# Using list\n",
        "start_list = time.time()\n",
        "list_result = list_even_numbers(n)\n",
        "list_time = time.time() - start_list\n",
        "list_memory = sys.getsizeof(list_result)\n",
        "print(f\"List: Time = {list_time:.4f}s, Memory = {list_memory} bytes\")\n",
        "\n",
        "# Using generator\n",
        "start_gen = time.time()\n",
        "gen_result = generator_even_numbers(n)\n",
        "gen_time = time.time() - start_gen\n",
        "gen_memory = sys.getsizeof(gen_result)\n",
        "print(f\"Generator: Time = {gen_time:.4f}s, Memory = {gen_memory} bytes\")"
      ]
    }
  ]
}