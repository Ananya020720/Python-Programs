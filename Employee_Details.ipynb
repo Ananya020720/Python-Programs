{
  "nbformat": 4,
  "nbformat_minor": 0,
  "metadata": {
    "colab": {
      "provenance": [],
      "authorship_tag": "ABX9TyNbMRUK8J7xF1nl2NwTs5n8",
      "include_colab_link": true
    },
    "kernelspec": {
      "name": "python3",
      "display_name": "Python 3"
    },
    "language_info": {
      "name": "python"
    }
  },
  "cells": [
    {
      "cell_type": "markdown",
      "metadata": {
        "id": "view-in-github",
        "colab_type": "text"
      },
      "source": [
        "<a href=\"https://colab.research.google.com/github/Ananya020720/Python-Programs/blob/main/Employee_Details.ipynb\" target=\"_parent\"><img src=\"https://colab.research.google.com/assets/colab-badge.svg\" alt=\"Open In Colab\"/></a>"
      ]
    },
    {
      "cell_type": "code",
      "execution_count": 1,
      "metadata": {
        "colab": {
          "base_uri": "https://localhost:8080/"
        },
        "id": "Vx9TVe2ASNif",
        "outputId": "4de0d71a-d891-41e6-ed2e-f6662691506c"
      },
      "outputs": [
        {
          "output_type": "stream",
          "name": "stdout",
          "text": [
            "Enter the number of Employees: 3\n",
            "Enter Employee 1 Details\n",
            "Enter Employee ID: 100\n",
            "Enter Employee Name: ABC\n",
            "Enter Employee Age: 34\n",
            "Enter Department: Sales\n",
            "Enter Salary: 50000\n",
            "Enter Employee 2 Details\n",
            "Enter Employee ID: 105\n",
            "Enter Employee Name: XYZ\n",
            "Enter Employee Age: 23\n",
            "Enter Department: Sales\n",
            "Enter Salary: 25000\n",
            "Enter Employee 3 Details\n",
            "Enter Employee ID: 125\n",
            "Enter Employee Name: EFG\n",
            "Enter Employee Age: 40\n",
            "Enter Department: Sales\n",
            "Enter Salary: 75000\n",
            "\n",
            "--- Employee Details ---\n",
            "ID         NAME            AGE   DEPARTMENT      SALARY    \n",
            "------------------------------------------------------------\n",
            "100        ABC             34    Sales           50000.00  \n",
            "105        XYZ             23    Sales           25000.00  \n",
            "125        EFG             40    Sales           75000.00  \n"
          ]
        }
      ],
      "source": [
        "employee_details =[]\n",
        "num = int(input(\"Enter the number of Employees: \"))\n",
        "\n",
        "for i in range(1,num+1):\n",
        "  temp = {}\n",
        "  print(f\"Enter Employee {i} Details\")\n",
        "  temp[\"id\"] = int(input(\"Enter Employee ID: \"))\n",
        "  temp[\"name\"] = input(\"Enter Employee Name: \")\n",
        "  temp[\"age\"] = int(input(\"Enter Employee Age: \"))\n",
        "  temp[\"dept\"] = input(\"Enter Department: \")\n",
        "  temp[\"salary\"] = int(input(\"Enter Salary: \"))\n",
        "  employee_details.append(temp)\n",
        "\n",
        "print(\"\\n--- Employee Details ---\")\n",
        "print(f\"{'ID':<10} {'NAME':<15} {'AGE':<5} {'DEPARTMENT':<15} {'SALARY':<10}\")\n",
        "print(\"-\" * 60)\n",
        "\n",
        "for emp in employee_details:\n",
        "    print(f\"{emp['id']:<10} {emp['name']:<15} {emp['age']:<5} {emp['dept']:<15} {emp['salary']:<10.2f}\")\n"
      ]
    },
    {
      "cell_type": "code",
      "source": [],
      "metadata": {
        "id": "-M0s_aU4S1gr"
      },
      "execution_count": null,
      "outputs": []
    }
  ]
}